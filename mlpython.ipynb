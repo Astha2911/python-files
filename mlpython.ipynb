{
 "cells": [
  {
   "cell_type": "code",
   "execution_count": 30,
   "metadata": {},
   "outputs": [
    {
     "name": "stdout",
     "output_type": "stream",
     "text": [
      "enter the number2 3 4 5\n",
      "4 9 16 25 "
     ]
    }
   ],
   "source": [
    "#calculate square of each element in list\n",
    "#ip-[5,3,2,9]\n",
    "#op-[25,9,4,81]\n",
    "n=input(\"enter the number\").split()\n",
    "for i in range(len(n)):\n",
    "    n[i]=int(n[i])\n",
    "    print(n[i]**2,end=\" \")\n",
    "    "
   ]
  },
  {
   "cell_type": "code",
   "execution_count": 21,
   "metadata": {},
   "outputs": [
    {
     "name": "stdout",
     "output_type": "stream",
     "text": [
      "enter first number8\n",
      "enter the second number9\n",
      "17\n"
     ]
    }
   ],
   "source": [
    "n1=int(input(\"enter first number\"))\n",
    "n2=int(input(\"enter the second number\"))\n",
    "s=n1+n2\n",
    "print(s)"
   ]
  },
  {
   "cell_type": "code",
   "execution_count": 22,
   "metadata": {},
   "outputs": [
    {
     "name": "stdout",
     "output_type": "stream",
     "text": [
      "hello world\n"
     ]
    }
   ],
   "source": [
    "\n",
    "n=print(\"hello world\")\n"
   ]
  },
  {
   "cell_type": "code",
   "execution_count": 24,
   "metadata": {},
   "outputs": [
    {
     "name": "stdout",
     "output_type": "stream",
     "text": [
      "astha\n",
      "hello astha\n"
     ]
    }
   ],
   "source": [
    "n=input()\n",
    "print(\"hello\",n)"
   ]
  },
  {
   "cell_type": "code",
   "execution_count": 27,
   "metadata": {},
   "outputs": [
    {
     "name": "stdout",
     "output_type": "stream",
     "text": [
      "{12: 'astha', 13: 'pallavi', 14: 'aditya'}\n"
     ]
    }
   ],
   "source": [
    "d={}\n",
    "d[12]=\"astha\"\n",
    "d[13]=\"pallavi\"\n",
    "d[14]=\"aditya\"\n",
    "print(d)"
   ]
  },
  {
   "cell_type": "code",
   "execution_count": 32,
   "metadata": {},
   "outputs": [
    {
     "name": "stdout",
     "output_type": "stream",
     "text": [
      "helloastha\n"
     ]
    }
   ],
   "source": [
    "#sep='',end='',flush='false'-sep,end,flush are keyword argument\n",
    "#help(str.split)\n",
    "#without any argument and return value\n",
    "def hello(name):\n",
    "    print(\"hello\"+name)\n",
    "hello(\"astha\")"
   ]
  },
  {
   "cell_type": "code",
   "execution_count": 41,
   "metadata": {},
   "outputs": [
    {
     "name": "stdout",
     "output_type": "stream",
     "text": [
      "hello astha mishra\n",
      "hello astha mishra\n",
      "hello astha mishra\n"
     ]
    }
   ],
   "source": [
    "def hello(fname,lname):\n",
    "    print(\"hello \"+fname+' '+lname)\n",
    "hello(fname=\"astha\",lname=\"mishra\")\n",
    "hello(\"astha\",\"mishra\")\n",
    "hello(\"astha\",lname=\"mishra\")"
   ]
  },
  {
   "cell_type": "code",
   "execution_count": 43,
   "metadata": {},
   "outputs": [
    {
     "name": "stdout",
     "output_type": "stream",
     "text": [
      "hello raj dell\n",
      "hello raj promize it\n"
     ]
    }
   ],
   "source": [
    "#should mention the optional argument\n",
    "def hello(fname,company=\"promize it\"):\n",
    "    print(\"hello \"+fname+' '+company)\n",
    "hello(\"raj\",\"dell\")\n",
    "hello(\"raj\")"
   ]
  },
  {
   "cell_type": "code",
   "execution_count": 44,
   "metadata": {},
   "outputs": [
    {
     "name": "stdout",
     "output_type": "stream",
     "text": [
      "125\n",
      "125\n"
     ]
    }
   ],
   "source": [
    "#function with return value\n",
    "def cube(n):\n",
    "    return n**3\n",
    "print(cube(5))\n",
    "a=cube(5)\n",
    "print(a)"
   ]
  },
  {
   "cell_type": "code",
   "execution_count": 46,
   "metadata": {},
   "outputs": [
    {
     "name": "stdout",
     "output_type": "stream",
     "text": [
      "121 2\n",
      "(121, 2) <class 'tuple'>\n",
      "(121, 2)\n"
     ]
    }
   ],
   "source": [
    "def powern(n):\n",
    "    d=len(str(n))\n",
    "    return n**d,d\n",
    "value,digit=powern(11)\n",
    "print(value,digit)\n",
    "values=powern(11)\n",
    "print(values,type(values))\n",
    "print(powern(11))"
   ]
  },
  {
   "cell_type": "code",
   "execution_count": 52,
   "metadata": {},
   "outputs": [
    {
     "name": "stdout",
     "output_type": "stream",
     "text": [
      "6\n",
      "24\n",
      "120\n"
     ]
    }
   ],
   "source": [
    "def prod(*numbers):\n",
    "    m=1\n",
    "    for i in numbers:\n",
    "        m*=i\n",
    "    return m\n",
    "print(prod(2,3))\n",
    "print(prod(2,3,4))\n",
    "print(prod(2,3,4,5))"
   ]
  },
  {
   "cell_type": "code",
   "execution_count": null,
   "metadata": {},
   "outputs": [],
   "source": [
    "def markssum(**numbers):\n",
    "    marks=[]\n",
    "    for i in numbers:\n",
    "        marks.append(sum(numbers[i])\n",
    "    return marks\n",
    "markssum(std1)\n",
    "        \n",
    "    "
   ]
  }
 ],
 "metadata": {
  "kernelspec": {
   "display_name": "Python 3",
   "language": "python",
   "name": "python3"
  },
  "language_info": {
   "codemirror_mode": {
    "name": "ipython",
    "version": 3
   },
   "file_extension": ".py",
   "mimetype": "text/x-python",
   "name": "python",
   "nbconvert_exporter": "python",
   "pygments_lexer": "ipython3",
   "version": "3.7.4"
  }
 },
 "nbformat": 4,
 "nbformat_minor": 2
}
