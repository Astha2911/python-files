{
 "cells": [
  {
   "cell_type": "code",
   "execution_count": 1,
   "metadata": {},
   "outputs": [
    {
     "name": "stdout",
     "output_type": "stream",
     "text": [
      "enter first stringbad\n",
      "enter second stringwater\n",
      "b w\n",
      "a a\n",
      "d t\n",
      "* e\n",
      "* r\n"
     ]
    }
   ],
   "source": [
    "s1=input(\"enter first string\")\n",
    "s2=input(\"enter second string\")\n",
    "if(len(s1)==len(s2)):\n",
    "    for i in range(len(s1)):\n",
    "        print(s1[i],s2[i])\n",
    "elif(len(s1)<len(s2)):\n",
    "    for i in range(len(s1)):\n",
    "        print(s1[i],s2[i])\n",
    "    for i in range(len(s1),len(s2)):\n",
    "        print(\"*\",s2[i])"
   ]
  },
  {
   "cell_type": "code",
   "execution_count": null,
   "metadata": {},
   "outputs": [],
   "source": []
  },
  {
   "cell_type": "code",
   "execution_count": 1,
   "metadata": {},
   "outputs": [
    {
     "name": "stdout",
     "output_type": "stream",
     "text": [
      "enter first stringbad\n",
      "enter second stringwater\n",
      "b w\n",
      "a a\n",
      "d t\n",
      "* e\n",
      "* r\n"
     ]
    }
   ],
   "source": [
    "s1=input(\"enter first string\")\n",
    "s2=input(\"enter second string\")\n",
    "if(len(s1)<len(s2)):\n",
    "    diff=len(s2)-len(s1)\n",
    "    s1=s1+\"*\"*diff\n",
    "elif(len(s1)>len(s2)):\n",
    "    diff=len(s1)-len(s2)\n",
    "    s2=s2+\"*\"*diff\n",
    "for i in range(len(s1)):\n",
    "    print(s1[i],s2[i])\n"
   ]
  },
  {
   "cell_type": "code",
   "execution_count": 2,
   "metadata": {},
   "outputs": [
    {
     "name": "stdout",
     "output_type": "stream",
     "text": [
      "enter the stringorange\n",
      "puboif"
     ]
    }
   ],
   "source": [
    "s=input(\"enter the string\")\n",
    "vowels=\"aeiouAEIOU\"\n",
    "for i in s:\n",
    "    if (i in vowels):\n",
    "        print(chr(ord(i)+1),end=\"\")\n",
    "    else:\n",
    "        if(i>'a' and i<'e'):\n",
    "            print('e',end=\"\")\n",
    "        elif (i>'e'and i<'i'):\n",
    "            print('i',end=\"\")\n",
    "        elif (i>'i'and i<'o'):\n",
    "            print('o',end=\"\")\n",
    "        elif(i>'o'and i<'u'):\n",
    "            print('u',end=\"\")\n",
    "        elif(i>'u'and i<'z'):\n",
    "            print('a')"
   ]
  },
  {
   "cell_type": "markdown",
   "metadata": {},
   "source": [
    "# 7-identity operator :is,is not\n",
    "x=10\n",
    "y=20\n",
    "z=10\n",
    "print(x is z)# id(x)==id(z)-->true\n",
    "print(x is y)\n",
    "#7-- ternary operator\n",
    "x=10\n",
    "y=20\n",
    "if x>y:\n",
    "    print(x)\n",
    "else:\n",
    "    print(y)\n",
    "# conditional control statement:if,else,elif\n",
    "   \n"
   ]
  },
  {
   "cell_type": "code",
   "execution_count": 3,
   "metadata": {},
   "outputs": [
    {
     "name": "stdout",
     "output_type": "stream",
     "text": [
      "enter first subject marks30\n",
      "enter second subject marks50\n",
      "enter third subject marks70\n",
      "fail\n"
     ]
    }
   ],
   "source": [
    "s1=int(input(\"enter first subject marks\"))\n",
    "s2=int(input(\"enter second subject marks\"))\n",
    "s3 =int(input(\"enter third subject marks\"))\n",
    "if(s1 >30 and s2>30 and s3>30):\n",
    "    avg=(x+y+z)/3\n",
    "    if(avg>=75):\n",
    "        print(\"you got A grade\")\n",
    "    elif(avg<75 and avg>=60):\n",
    "        print(\"you got B grade\")\n",
    "    elif(avg<60 and avg>=45):\n",
    "        print(\"you got c grade\")\n",
    "    elif(avg<45 and avg>30):\n",
    "        print(\"yoy got D grade\")\n",
    "    else:\n",
    "        print(\"you are fail\")\n",
    "else:\n",
    "    print(\"fail\")"
   ]
  },
  {
   "cell_type": "code",
   "execution_count": 7,
   "metadata": {},
   "outputs": [
    {
     "name": "stdout",
     "output_type": "stream",
     "text": [
      "enter the number10\n",
      "12345678910\n",
      "12345678910"
     ]
    }
   ],
   "source": [
    "i=1\n",
    "n=int(input(\"enter the number\"))\n",
    "while i<=n:\n",
    "    print(i,end=\"\")\n",
    "    i+=1\n",
    "print()\n",
    "for i in range(1,n+1,1):\n",
    "    print(i,end=\"\")"
   ]
  },
  {
   "cell_type": "code",
   "execution_count": 14,
   "metadata": {},
   "outputs": [
    {
     "name": "stdout",
     "output_type": "stream",
     "text": [
      "enter the stringastha\n",
      "a\n",
      "s\n",
      "t\n",
      "h\n",
      "a\n"
     ]
    }
   ],
   "source": [
    "s=input(\"enter the string\")\n",
    "l=0\n",
    "j=0\n",
    "for i in s:\n",
    "    l=l+1\n",
    "while j<l:\n",
    "    print(s[j])\n",
    "    j+=1"
   ]
  },
  {
   "cell_type": "code",
   "execution_count": 18,
   "metadata": {},
   "outputs": [
    {
     "ename": "SyntaxError",
     "evalue": "invalid syntax (<ipython-input-18-85bb584e6e99>, line 2)",
     "output_type": "error",
     "traceback": [
      "\u001b[1;36m  File \u001b[1;32m\"<ipython-input-18-85bb584e6e99>\"\u001b[1;36m, line \u001b[1;32m2\u001b[0m\n\u001b[1;33m    s1=str(len(s))\u001b[0m\n\u001b[1;37m     ^\u001b[0m\n\u001b[1;31mSyntaxError\u001b[0m\u001b[1;31m:\u001b[0m invalid syntax\n"
     ]
    }
   ],
   "source": [
    "s=int(input(\"enter the number\")\n",
    "s1=int(str(s)[::-1])\n",
    "print(\"reversed string\",s1)\n",
    "if (s==s1):\n",
    "      if (s>1):\n",
    "      \n",
    "      for i in range(2,s):\n",
    "      if(s%i==0):\n",
    "      \n",
    "      \n",
    "      print(\"yes it is\")\n",
    "else:\n",
    "      print(\"no\")"
   ]
  },
  {
   "cell_type": "code",
   "execution_count": 3,
   "metadata": {},
   "outputs": [
    {
     "name": "stdout",
     "output_type": "stream",
     "text": [
      "enter the number121\n",
      "yes\n"
     ]
    }
   ],
   "source": [
    "number=int(input(\"enter the number\"))\n",
    "string=str(number)\n",
    "rev_string=string[::-1]\n",
    "if string==rev_string:\n",
    "    print(\"yes\")\n",
    "else:\n",
    "    print(\"no\")"
   ]
  },
  {
   "cell_type": "code",
   "execution_count": 5,
   "metadata": {},
   "outputs": [
    {
     "name": "stdout",
     "output_type": "stream",
     "text": [
      "enter the number5\n",
      "1\n",
      "2\n",
      "frizz\n",
      "4\n",
      "buzz\n"
     ]
    }
   ],
   "source": [
    "n=int(input(\"enter the number\"))\n",
    "for i in range(1,n+1):\n",
    "    if(i%3==0 and i%5==0):\n",
    "        print(\"frizzbuzz\")\n",
    "    elif(i%5==0):\n",
    "        print(\"buzz\")\n",
    "    elif(i%3==0):\n",
    "        print(\"frizz\")\n",
    "    else:\n",
    "        print(i)"
   ]
  },
  {
   "cell_type": "code",
   "execution_count": 6,
   "metadata": {},
   "outputs": [
    {
     "name": "stdout",
     "output_type": "stream",
     "text": [
      "enter the number5\n",
      "5 * 1 = 5\n",
      "5 * 2 = 10\n",
      "5 * 3 = 15\n",
      "5 * 4 = 20\n",
      "5 * 5 = 25\n",
      "5 * 6 = 30\n",
      "5 * 7 = 35\n",
      "5 * 8 = 40\n",
      "5 * 9 = 45\n",
      "5 * 10 = 50\n",
      "5 * 11 = 55\n",
      "5 * 12 = 60\n",
      "5 * 13 = 65\n",
      "5 * 14 = 70\n",
      "5 * 15 = 75\n",
      "5 * 16 = 80\n",
      "5 * 17 = 85\n",
      "5 * 18 = 90\n",
      "5 * 19 = 95\n",
      "5 * 20 = 100\n"
     ]
    }
   ],
   "source": [
    "n=int(input(\"enter the number\"))\n",
    "for i in range(1,21):\n",
    "    print(n,\"*\",i,\"=\",n*i)"
   ]
  },
  {
   "cell_type": "code",
   "execution_count": null,
   "metadata": {},
   "outputs": [],
   "source": [
    "(\"%d * %d =%d\"%(n,i,n*i))another format of printing table\n",
    "1] prime or not\n",
    "2] perfect or not\n",
    "3] print prime no in given range\n",
    "4] armstrong or not\n",
    "5]find factorial of give number\n",
    "6]stron number or not\n",
    "#145=1!+4!+5!=1+24+120=145\n",
    "7\n",
    "\n",
    "\n"
   ]
  },
  {
   "cell_type": "code",
   "execution_count": 2,
   "metadata": {},
   "outputs": [
    {
     "name": "stdout",
     "output_type": "stream",
     "text": [
      "100\n"
     ]
    }
   ],
   "source": [
    "for i in range(1,1001):\n",
    "    num=i\n",
    "    result=0\n",
    "n=(len(str(i)))\n",
    "while(i!=0):\n",
    "    digit=i%10\n",
    "    result=result+digit**n\n",
    "    i=i//10\n",
    "if num==result:\n",
    "    print(num)\n"
   ]
  },
  {
   "cell_type": "code",
   "execution_count": 10,
   "metadata": {},
   "outputs": [
    {
     "name": "stdout",
     "output_type": "stream",
     "text": [
      "enter the number6\n",
      "yes its not prime number\n"
     ]
    }
   ],
   "source": [
    "n=int(input(\"enter the number\"))\n",
    "if n>1:\n",
    "    for i in range(2,n):\n",
    "        if (n%i==0):\n",
    "            print(\"yes its not prime number\")\n",
    "            break\n",
    "    else:\n",
    "            print(\"its prime number\")\n",
    "else:\n",
    "    print(\"its not prime number\")\n",
    "            "
   ]
  },
  {
   "cell_type": "code",
   "execution_count": 11,
   "metadata": {},
   "outputs": [
    {
     "name": "stdout",
     "output_type": "stream",
     "text": [
      "enter the number5\n",
      "factorial is 120\n"
     ]
    }
   ],
   "source": [
    "def fact(n):\n",
    "    if n==0:\n",
    "        return 1;\n",
    "    else:\n",
    "        return n*fact(n-1)\n",
    "n=int(input(\"enter the number\"))\n",
    "result=fact(n)\n",
    "print(\"factorial is\",result)"
   ]
  },
  {
   "cell_type": "markdown",
   "metadata": {},
   "source": [
    "###### "
   ]
  },
  {
   "cell_type": "code",
   "execution_count": 14,
   "metadata": {},
   "outputs": [
    {
     "name": "stdout",
     "output_type": "stream",
     "text": [
      "enter the number8\n",
      "8 is not perfecrt\n"
     ]
    }
   ],
   "source": [
    "n=int(input(\"enter the number\"))\n",
    "result=0\n",
    "for i in range(1,n):\n",
    "    if(n%i==0):\n",
    "        result=result+i\n",
    "if (result==n):\n",
    "    print(n,\" is perfect number\")\n",
    "else:\n",
    "    print(n,\"is not perfecrt\")"
   ]
  },
  {
   "cell_type": "code",
   "execution_count": 17,
   "metadata": {},
   "outputs": [
    {
     "name": "stdout",
     "output_type": "stream",
     "text": [
      "enter the number45\n",
      "is not an strong number\n"
     ]
    }
   ],
   "source": [
    "result=0\n",
    "num=int(input(\"enter the number\"))\n",
    "temp=num\n",
    "while(num):\n",
    "    i=1\n",
    "    f=1\n",
    "    r=num%10\n",
    "    while(i<=r):\n",
    "        f=f*i\n",
    "        i=i+1\n",
    "    result=result+f\n",
    "    num=num//10\n",
    "if(result==temp):\n",
    "    print(\"is strong number\")\n",
    "else:\n",
    "    print(\"is not an strong number\")\n",
    "    \n",
    " "
   ]
  },
  {
   "cell_type": "code",
   "execution_count": 22,
   "metadata": {},
   "outputs": [
    {
     "name": "stdout",
     "output_type": "stream",
     "text": [
      "enter the number13\n",
      "0\n",
      "1\n",
      "1\n",
      "2\n",
      "3\n",
      "5\n",
      "8\n",
      "13\n",
      "21\n",
      "34\n",
      "55\n",
      "89\n",
      "144\n"
     ]
    }
   ],
   "source": [
    "n=int(input(\"enter the number\"))\n",
    "first=0\n",
    "second=1\n",
    "for i in range(n):\n",
    "    print(first)\n",
    "    temp=first\n",
    "    first=second\n",
    "    second=temp+second\n",
    "      "
   ]
  },
  {
   "cell_type": "code",
   "execution_count": 27,
   "metadata": {},
   "outputs": [
    {
     "name": "stdout",
     "output_type": "stream",
     "text": [
      "enter the number12\n",
      "yes it is adom number\n"
     ]
    }
   ],
   "source": [
    "n1=int(input(\"enter the number\"))\n",
    "n2=n1**2\n",
    "n3=int(str(n1)[::-1])**2\n",
    "n4=int(str(n3)[::-1])\n",
    "if n4==n2:\n",
    "    print(\"yes it is adom number\")\n",
    "else:\n",
    "    print(\"no its not adom number\")"
   ]
  },
  {
   "cell_type": "code",
   "execution_count": 31,
   "metadata": {},
   "outputs": [
    {
     "name": "stdout",
     "output_type": "stream",
     "text": [
      "enter the first number6\n",
      "enter the second number4\n",
      "2\n"
     ]
    }
   ],
   "source": [
    "def gcdfun(a,b):\n",
    "    if b==0:\n",
    "        return a\n",
    "    else:\n",
    "        return gcdfun(b,a%b)\n",
    "n1=int(input(\"enter the first number\"))\n",
    "n2=int(input(\"enter the second number\"))\n",
    "print(gcdfun(n1,n2))"
   ]
  },
  {
   "cell_type": "code",
   "execution_count": 1,
   "metadata": {},
   "outputs": [
    {
     "name": "stdout",
     "output_type": "stream",
     "text": [
      "enter the odd number12345\n",
      "1       1 \n",
      "  2   2   \n",
      "    3     \n",
      "  4   4   \n",
      "5       5 \n"
     ]
    }
   ],
   "source": [
    "num=input(\"enter the odd number\")\n",
    "length=len(num)\n",
    "for i in range(length):\n",
    "    for j in range(length):\n",
    "        if i==j or i+j==length-1:\n",
    "            print(num[i],end=\" \")\n",
    "        else:\n",
    "            print(\" \",end=\" \")\n",
    "    print()\n"
   ]
  },
  {
   "cell_type": "code",
   "execution_count": 1,
   "metadata": {},
   "outputs": [
    {
     "name": "stdout",
     "output_type": "stream",
     "text": [
      "enter the principal5000\n",
      "enter the rate6\n",
      "enter the time2\n",
      "simple intrest is 600.0\n",
      "compound intrst is 618.0000000000009\n"
     ]
    }
   ],
   "source": [
    "p=float(input(\"enter the principal\"))\n",
    "r=float(input(\"enter the rate\"))\n",
    "t=float(input(\"enter the time\"))\n",
    "si=(p*r*t)/100\n",
    "ci=p*((1+r/100)**t)-p\n",
    "print(\"simple intrest is\",si)\n",
    "print(\"compound intrst is\",ci)"
   ]
  },
  {
   "cell_type": "markdown",
   "metadata": {},
   "source": [
    "# inserting a image\n",
    "![text](https://www.nationalgeographic.com/content/dam/animals/rights-exempt/best-of-animals-2018/photo-ark-parrots-endangered-bird-world-intelligence-3.adapt.1900.1.jpg)"
   ]
  },
  {
   "cell_type": "code",
   "execution_count": null,
   "metadata": {},
   "outputs": [],
   "source": [
    "#[!text](copy image address)\n",
    "\n"
   ]
  },
  {
   "cell_type": "markdown",
   "metadata": {},
   "source": [
    "###college\n",
    "- students\n",
    "- faculty\n",
    "- branch\n",
    "    - csc\n",
    "    - ece"
   ]
  },
  {
   "cell_type": "markdown",
   "metadata": {},
   "source": [
    "### for bold **\n",
    "### for italic *\n",
    "** astha **\n",
    "*astha*"
   ]
  },
  {
   "cell_type": "code",
   "execution_count": 4,
   "metadata": {},
   "outputs": [
    {
     "name": "stdout",
     "output_type": "stream",
     "text": [
      "[1, 2, 3, 4, 23]\n",
      "enter the key6\n",
      "key is not Found\n"
     ]
    }
   ],
   "source": [
    "def BinarySearch(list1,key):\n",
    "    low=0\n",
    "    high=len(list1)-1\n",
    "    Found=False\n",
    "    while low<=high and not Found:\n",
    "        mid=(low+high)//2\n",
    "        if key==list1[mid]:\n",
    "            Found=True\n",
    "        elif key>list1[mid]:\n",
    "            low=mid+1\n",
    "        else:\n",
    "            high=mid-1\n",
    "    if Found==True:\n",
    "        print(\"key is Found\")\n",
    "    else:\n",
    "        print(\"key is not Found\")\n",
    "list1=[23,1,4,2,3]\n",
    "list1.sort()\n",
    "print(list1)\n",
    "key=int(input(\"enter the key\"))\n",
    "BinarySearch(list1,key)"
   ]
  },
  {
   "cell_type": "markdown",
   "metadata": {},
   "source": []
  },
  {
   "cell_type": "code",
   "execution_count": 9,
   "metadata": {},
   "outputs": [
    {
     "name": "stdout",
     "output_type": "stream",
     "text": [
      "enter the lower range5\n",
      "enter the upper range15\n",
      "5\n",
      "7\n",
      "11\n",
      "13\n"
     ]
    }
   ],
   "source": [
    "lower=int(input(\"enter the lower range\"))\n",
    "upper=int(input(\"enter the upper range\"))\n",
    "for num in range(lower,upper+1):\n",
    "    if num>1:\n",
    "        for i in range(2,num):\n",
    "            if (num%i)==0:\n",
    "                break\n",
    "        else:\n",
    "                print(num)\n"
   ]
  },
  {
   "cell_type": "code",
   "execution_count": 1,
   "metadata": {},
   "outputs": [
    {
     "name": "stdout",
     "output_type": "stream",
     "text": [
      "i don't want this\n"
     ]
    }
   ],
   "source": [
    "s='i don\\'t want this'\n",
    "print(s)\n"
   ]
  },
  {
   "cell_type": "code",
   "execution_count": 1,
   "metadata": {},
   "outputs": [
    {
     "name": "stdout",
     "output_type": "stream",
     "text": [
      "w\n",
      "o\n",
      "r\n",
      "d\n"
     ]
    }
   ],
   "source": [
    "l = \"word\"\n",
    "for i in l:\n",
    "    print(i)"
   ]
  },
  {
   "cell_type": "code",
   "execution_count": 2,
   "metadata": {},
   "outputs": [
    {
     "name": "stdout",
     "output_type": "stream",
     "text": [
      "['a', 'b', 'c']\n"
     ]
    }
   ],
   "source": [
    "list=[]\n",
    "list.append(\"a\")\n",
    "list.append(\"b\")\n",
    "list.append(\"c\")\n",
    "print(list)\n",
    "\n"
   ]
  },
  {
   "cell_type": "code",
   "execution_count": 3,
   "metadata": {},
   "outputs": [
    {
     "name": "stdout",
     "output_type": "stream",
     "text": [
      "['a', '10', 'b', 'c', 'd']\n"
     ]
    }
   ],
   "source": [
    "list=['a','b','c','d']\n",
    "list.insert(1,\"10\")\n",
    "print(list)\n"
   ]
  },
  {
   "cell_type": "code",
   "execution_count": 5,
   "metadata": {},
   "outputs": [
    {
     "name": "stdout",
     "output_type": "stream",
     "text": [
      "['red', 'blue', 'green', 'white', 'black', 'orange']\n"
     ]
    }
   ],
   "source": [
    "list1=[\"red\",\"blue\",\"green\",\"white\"]\n",
    "list2=[\"black\",\"orange\"]\n",
    "list1.extend(list2)\n",
    "print(list1)"
   ]
  },
  {
   "cell_type": "code",
   "execution_count": 7,
   "metadata": {},
   "outputs": [
    {
     "name": "stdout",
     "output_type": "stream",
     "text": [
      "['b', 'c', 'd']\n"
     ]
    }
   ],
   "source": [
    "list=[\"a\",\"b\",\"c\",\"d\"]\n",
    "list.remove(\"a\")\n",
    "print(list)"
   ]
  },
  {
   "cell_type": "code",
   "execution_count": 8,
   "metadata": {},
   "outputs": [
    {
     "name": "stdout",
     "output_type": "stream",
     "text": [
      "['a', 'b']\n"
     ]
    }
   ],
   "source": [
    "list=['a','b','c']\n",
    "list.pop()\n",
    "print(list)"
   ]
  },
  {
   "cell_type": "code",
   "execution_count": 9,
   "metadata": {},
   "outputs": [
    {
     "name": "stdout",
     "output_type": "stream",
     "text": [
      "[5, 6, 7, 9, 10]\n"
     ]
    }
   ],
   "source": [
    "list=[7,9,10,5,6]\n",
    "list.sort()\n",
    "print(list)"
   ]
  },
  {
   "cell_type": "code",
   "execution_count": 12,
   "metadata": {},
   "outputs": [
    {
     "name": "stdout",
     "output_type": "stream",
     "text": [
      "[[1, 2, 3], [4, 5, 6], [7, 8, 9]]\n",
      "row wise matrix\n",
      "[1, 2, 3]\n",
      "[4, 5, 6]\n",
      "[7, 8, 9]\n",
      "matrix\n",
      "123\n",
      "456\n",
      "789\n"
     ]
    }
   ],
   "source": [
    "n=[[1,2,3],[4,5,6],[7,8,9]]\n",
    "print(n)\n",
    "print(\"row wise matrix\")\n",
    "for r in n:\n",
    "    print(r)\n",
    "print(\"matrix\")\n",
    "for i in range(len(n)):\n",
    "    for j in range(len(n[i])):\n",
    "        print(n[i][j],end=\"\")\n",
    "    print()"
   ]
  },
  {
   "cell_type": "code",
   "execution_count": 13,
   "metadata": {},
   "outputs": [
    {
     "name": "stdout",
     "output_type": "stream",
     "text": [
      "['a', 'b', 'c', 'd', 'e']\n"
     ]
    }
   ],
   "source": [
    "list=['d','c','a','b','e']\n",
    "list.sort()\n",
    "print(list)"
   ]
  },
  {
   "cell_type": "code",
   "execution_count": 6,
   "metadata": {},
   "outputs": [
    {
     "name": "stdout",
     "output_type": "stream",
     "text": [
      "enter the list\"welcome to python\"\n",
      "['welcome', 'to', 'python']\n"
     ]
    }
   ],
   "source": [
    "list=eval(input(\"enter the list\"))\n",
    "s=list.split()\n",
    "print(s)"
   ]
  },
  {
   "cell_type": "code",
   "execution_count": 1,
   "metadata": {},
   "outputs": [
    {
     "name": "stdout",
     "output_type": "stream",
     "text": [
      "enter the nameastha\n",
      "['a']\n",
      "['a', 's']\n",
      "['a', 's', 't']\n",
      "['a', 's', 't', 'h']\n",
      "4\n",
      "['a', 's', 't', 'h']\n",
      "['a', 'h', 's', 't']\n"
     ]
    }
   ],
   "source": [
    "s=input(\"enter the name\")\n",
    "s1=[]\n",
    "for char in s[::]:\n",
    "    if char not in s1:\n",
    "        s1.append(char)\n",
    "        print(s1)\n",
    "print(len(s1))\n",
    "print(s1)\n",
    "s1.sort()\n",
    "print(s1)\n",
    "    \n"
   ]
  },
  {
   "cell_type": "code",
   "execution_count": 43,
   "metadata": {},
   "outputs": [
    {
     "name": "stdout",
     "output_type": "stream",
     "text": [
      "['python', 'is', 'programing', 'language']\n"
     ]
    }
   ],
   "source": [
    "t=\"python is programing language\"\n",
    "s=t.split()\n",
    "print(s)"
   ]
  },
  {
   "cell_type": "code",
   "execution_count": 10,
   "metadata": {},
   "outputs": [
    {
     "ename": "TypeError",
     "evalue": "'list' object is not callable",
     "output_type": "error",
     "traceback": [
      "\u001b[1;31m---------------------------------------------------------------------------\u001b[0m",
      "\u001b[1;31mTypeError\u001b[0m                                 Traceback (most recent call last)",
      "\u001b[1;32m<ipython-input-10-6a9ff8f62e90>\u001b[0m in \u001b[0;36m<module>\u001b[1;34m\u001b[0m\n\u001b[0;32m      1\u001b[0m \u001b[0ml\u001b[0m\u001b[1;33m=\u001b[0m\u001b[1;33m[\u001b[0m\u001b[1;36m27\u001b[0m\u001b[1;33m,\u001b[0m\u001b[1;36m24\u001b[0m\u001b[1;33m,\u001b[0m\u001b[1;36m56\u001b[0m\u001b[1;33m,\u001b[0m\u001b[1;36m12\u001b[0m\u001b[1;33m,\u001b[0m\u001b[1;36m19\u001b[0m\u001b[1;33m,\u001b[0m\u001b[1;36m23\u001b[0m\u001b[1;33m]\u001b[0m\u001b[1;33m\u001b[0m\u001b[1;33m\u001b[0m\u001b[0m\n\u001b[1;32m----> 2\u001b[1;33m \u001b[0ml\u001b[0m\u001b[1;33m(\u001b[0m\u001b[1;36m1\u001b[0m\u001b[1;33m)\u001b[0m\u001b[1;33m**\u001b[0m\u001b[1;36m2\u001b[0m\u001b[1;33m\u001b[0m\u001b[1;33m\u001b[0m\u001b[0m\n\u001b[0m\u001b[0;32m      3\u001b[0m \u001b[0ml\u001b[0m\u001b[1;33m(\u001b[0m\u001b[1;36m3\u001b[0m\u001b[1;33m)\u001b[0m\u001b[1;33m**\u001b[0m\u001b[1;36m2\u001b[0m\u001b[1;33m\u001b[0m\u001b[1;33m\u001b[0m\u001b[0m\n\u001b[0;32m      4\u001b[0m \u001b[0ml\u001b[0m\u001b[1;33m(\u001b[0m\u001b[1;36m5\u001b[0m\u001b[1;33m)\u001b[0m\u001b[1;33m**\u001b[0m\u001b[1;36m2\u001b[0m\u001b[1;33m\u001b[0m\u001b[1;33m\u001b[0m\u001b[0m\n\u001b[0;32m      5\u001b[0m \u001b[0mprint\u001b[0m\u001b[1;33m(\u001b[0m\u001b[0ml\u001b[0m\u001b[1;33m)\u001b[0m\u001b[1;33m\u001b[0m\u001b[1;33m\u001b[0m\u001b[0m\n",
      "\u001b[1;31mTypeError\u001b[0m: 'list' object is not callable"
     ]
    }
   ],
   "source": [
    "a=[]"
   ]
  },
  {
   "cell_type": "code",
   "execution_count": 8,
   "metadata": {},
   "outputs": [
    {
     "name": "stdout",
     "output_type": "stream",
     "text": [
      "[3][3, 4][3, 4, 7][3, 4, 7, 2][3, 4, 7, 2, 9]"
     ]
    }
   ],
   "source": [
    "l=[23, 44, 67, 92, 99]\n",
    "l1=[]\n",
    "for i in l:\n",
    "    l2=i%10\n",
    "    l1.append(l2)\n",
    "    print(l1,end=\"\")\n",
    "    "
   ]
  },
  {
   "cell_type": "code",
   "execution_count": 10,
   "metadata": {},
   "outputs": [
    {
     "name": "stdout",
     "output_type": "stream",
     "text": [
      "[3, 4, 7, 2, 9]\n"
     ]
    }
   ],
   "source": [
    "l=[23,44,67,92,99]\n",
    "l1=[i%10 for i in l]\n",
    "print(l1)"
   ]
  },
  {
   "cell_type": "code",
   "execution_count": 14,
   "metadata": {},
   "outputs": [
    {
     "name": "stdout",
     "output_type": "stream",
     "text": [
      "10 20 30 40\n",
      "1 2 3 4\n",
      " 2 3 4 5\n",
      "[[10, 20, 30, 40], [1, 2, 3, 4], [2, 3, 4, 5]]\n"
     ]
    }
   ],
   "source": [
    "l1=input().split()\n",
    "l2=input().split()\n",
    "l3=input().split()\n",
    "l4=[]\n",
    "for i in range(len(l1)):\n",
    "    l1[i]=int(l1[i])\n",
    "    l2[i]=int(l2[i])\n",
    "    l3[i]=int(l3[i])\n",
    "l4.append(l1)\n",
    "l4.append(l2)\n",
    "l4.append(l3)\n",
    "print(l4)"
   ]
  },
  {
   "cell_type": "code",
   "execution_count": 16,
   "metadata": {},
   "outputs": [
    {
     "name": "stdout",
     "output_type": "stream",
     "text": [
      "enter numbers10 20 30 60 99\n",
      "enter number7 6 9 11 9\n",
      "[3, 2, 3, 5, 0]\n",
      "[1, 3, 3, 5, 11]\n"
     ]
    }
   ],
   "source": [
    "l=[]\n",
    "ll=[]\n",
    "l1=input(\"enter numbers\").split()\n",
    "l2=input(\"enter number\").split()\n",
    "for i in range (len(l1)):\n",
    "    l1[i]=int(l1[i])\n",
    "    l2[i]=int(l2[i])\n",
    "    l.append(l1[i]%l2[i])\n",
    "    ll.append(l1[i]//l2[i])\n",
    "print(l)\n",
    "print(ll)\n",
    "    "
   ]
  },
  {
   "cell_type": "code",
   "execution_count": 1,
   "metadata": {},
   "outputs": [
    {
     "name": "stdout",
     "output_type": "stream",
     "text": [
      "ASSDF\n",
      "<generator object <genexpr> at 0x00000212589FB448>\n"
     ]
    }
   ],
   "source": [
    "l=input().split()\n",
    "l1=(i.lower() for i in l)\n",
    "print(l1)"
   ]
  },
  {
   "cell_type": "code",
   "execution_count": 2,
   "metadata": {},
   "outputs": [
    {
     "name": "stdout",
     "output_type": "stream",
     "text": [
      "abc@gmail.com\n",
      "123@gmail.com\n",
      "promizeit@gmail.com\n",
      "mno@yahoo.com\n",
      "done\n",
      "['abc@gmail.com', '123@gmail.com', 'promizeit@gmail.com', 'mno@yahoo.com']\n"
     ]
    }
   ],
   "source": [
    "#read the email of string from keyboard until the user enters 'done'\n",
    "# from the mail get the domain names of the mails in list\n",
    "#example \"ml.ai@gmail.com\",domain is \"gmail.com\"here\n",
    "emails=[]\n",
    "while True:\n",
    "    email =input()\n",
    "    if email==\"done\":\n",
    "        break\n",
    "    else:\n",
    "        emails.append(email)\n",
    "print(emails)"
   ]
  },
  {
   "cell_type": "code",
   "execution_count": 9,
   "metadata": {},
   "outputs": [
    {
     "data": {
      "text/plain": [
       "['gmail.com', 'gmail.com', 'yahoo.in']"
      ]
     },
     "execution_count": 9,
     "metadata": {},
     "output_type": "execute_result"
    }
   ],
   "source": [
    "domains=[]\n",
    "for i in range(len(emails)):\n",
    "    domains.append(emails[i].split('@')[-1])\n",
    "domains\n",
    "\n"
   ]
  },
  {
   "cell_type": "code",
   "execution_count": null,
   "metadata": {},
   "outputs": [
    {
     "name": "stdout",
     "output_type": "stream",
     "text": [
      "123@gmail.com\n"
     ]
    }
   ],
   "source": [
    "emails=[]\n",
    "while True:\n",
    "    email=input()\n",
    "    if email==\"done\":\n",
    "        emails.append(email)\n",
    "        break\n",
    "print(emails)"
   ]
  },
  {
   "cell_type": "code",
   "execution_count": 3,
   "metadata": {},
   "outputs": [
    {
     "data": {
      "text/plain": [
       "['abc@gmail.com', 'python1234@gmail.com', 'her0@yahoo.inroja@yahoo.in']"
      ]
     },
     "execution_count": 3,
     "metadata": {},
     "output_type": "execute_result"
    }
   ],
   "source": [
    "# how many emails are there with domain 'gmail.com'\n",
    "emails=['abc@gmail.com','python1234@gmail.com','her0@yahoo.in'\n",
    "       'roja@yahoo.in']\n",
    "emails\n",
    "\n",
    "\n"
   ]
  },
  {
   "cell_type": "code",
   "execution_count": 4,
   "metadata": {},
   "outputs": [
    {
     "name": "stdout",
     "output_type": "stream",
     "text": [
      "2\n"
     ]
    }
   ],
   "source": [
    "c=0\n",
    "for i in range(len(emails)):\n",
    "    if emails[i].split('@')[-1]==\"gmail.com\":\n",
    "        c+=1\n",
    "print(c)"
   ]
  },
  {
   "cell_type": "code",
   "execution_count": 10,
   "metadata": {},
   "outputs": [
    {
     "data": {
      "text/plain": [
       "['gmail.com', 'gmail.com', 'yahoo.in']"
      ]
     },
     "execution_count": 10,
     "metadata": {},
     "output_type": "execute_result"
    }
   ],
   "source": [
    "domains"
   ]
  },
  {
   "cell_type": "code",
   "execution_count": 11,
   "metadata": {},
   "outputs": [
    {
     "data": {
      "text/plain": [
       "['gmail.com', 'yahoo.in']"
      ]
     },
     "execution_count": 11,
     "metadata": {},
     "output_type": "execute_result"
    }
   ],
   "source": [
    "# get the unique domain names from the list domains\n",
    "unique_domains=[]\n",
    "for i in domains:\n",
    "    if i not in unique_domains:\n",
    "        unique_domains.append(i)\n",
    "unique_domains\n"
   ]
  },
  {
   "cell_type": "code",
   "execution_count": 12,
   "metadata": {},
   "outputs": [
    {
     "data": {
      "text/plain": [
       "['yahoo.in', 'gmail.com']"
      ]
     },
     "execution_count": 12,
     "metadata": {},
     "output_type": "execute_result"
    }
   ],
   "source": [
    "list(set(domains))"
   ]
  },
  {
   "cell_type": "code",
   "execution_count": 17,
   "metadata": {},
   "outputs": [
    {
     "data": {
      "text/plain": [
       "[['gmail.com', 2], ['yahoo.in', 1]]"
      ]
     },
     "execution_count": 17,
     "metadata": {},
     "output_type": "execute_result"
    }
   ],
   "source": [
    "# reading the mails from user\n",
    "# getting domains in a new list\n",
    "# with a specific domain how many mails are there\n",
    "# unique mails as a list\n",
    "# [\"domain1\":count,\"domain2\":count]\n",
    "\n",
    "domains_count=[]\n",
    "for i in unique_domains:\n",
    "    domains_count.append([i,domains.count(i)])\n",
    "domains_count"
   ]
  },
  {
   "cell_type": "code",
   "execution_count": 18,
   "metadata": {},
   "outputs": [
    {
     "data": {
      "text/plain": [
       "[['gmail.com', 2], ['gmail.com', 2], ['yahoo.in', 1]]"
      ]
     },
     "execution_count": 18,
     "metadata": {},
     "output_type": "execute_result"
    }
   ],
   "source": [
    "domains_count=[]\n",
    "for i in domains:\n",
    "    domains_count.append([i,domains.count(i)])\n",
    "domains_count"
   ]
  },
  {
   "cell_type": "code",
   "execution_count": 37,
   "metadata": {},
   "outputs": [
    {
     "name": "stdout",
     "output_type": "stream",
     "text": [
      "['rakesh', '345', '56', 'python']\n"
     ]
    }
   ],
   "source": [
    "# i/p:\"Rakesh 345 56 python\"\n",
    "#o/p:[\"Rakesh\",345,56,\"python\"]\n",
    "#o/p:[(\"Rakesh\",345),56,\"python\"]\n",
    "# tuple([123])\n",
    "l2=\"rakesh 345 56 python\"\n",
    "l1=l2.split()\n",
    "print(l1)\n"
   ]
  },
  {
   "cell_type": "code",
   "execution_count": 38,
   "metadata": {},
   "outputs": [
    {
     "name": "stdout",
     "output_type": "stream",
     "text": [
      "rakesh 345 56 python\n"
     ]
    },
    {
     "data": {
      "text/plain": [
       "[('rakesh', 345), 56, 'python']"
      ]
     },
     "execution_count": 38,
     "metadata": {},
     "output_type": "execute_result"
    }
   ],
   "source": [
    "s=input().split()\n",
    "s[1]=int(s[1])\n",
    "s[2]=int(s[2])\n",
    "s1=[tuple(s[0:2]),s[2],s[3]]\n",
    "s1"
   ]
  },
  {
   "cell_type": "code",
   "execution_count": 40,
   "metadata": {},
   "outputs": [
    {
     "name": "stdout",
     "output_type": "stream",
     "text": [
      "3\n",
      "astha 345 70 python\n",
      "pallavi 456 80 java\n",
      "manu 346 90 c++\n"
     ]
    },
    {
     "data": {
      "text/plain": [
       "[[('astha', 345), 70, 'python'],\n",
       " [('pallavi', 456), 80, 'java'],\n",
       " [('manu', 346), 90, 'c++']]"
      ]
     },
     "execution_count": 40,
     "metadata": {},
     "output_type": "execute_result"
    }
   ],
   "source": [
    "n=int(input())\n",
    "students=[]\n",
    "for i in range(n):\n",
    "    s=input().split()\n",
    "    s[1]=int(s[1])\n",
    "    s[2]=int(s[2])\n",
    "    s1=[tuple(s[0:2]),s[2],s[3]]\n",
    "    students.append(s1)\n",
    "students"
   ]
  },
  {
   "cell_type": "code",
   "execution_count": 41,
   "metadata": {},
   "outputs": [
    {
     "data": {
      "text/plain": [
       "['python', 'java', 'c++']"
      ]
     },
     "execution_count": 41,
     "metadata": {},
     "output_type": "execute_result"
    }
   ],
   "source": [
    "languages=[]\n",
    "for i in range(len(students)):\n",
    "    languages.append(students[i][2])\n",
    "languages"
   ]
  },
  {
   "cell_type": "code",
   "execution_count": 46,
   "metadata": {},
   "outputs": [
    {
     "name": "stdout",
     "output_type": "stream",
     "text": [
      "3\n"
     ]
    }
   ],
   "source": [
    "#list(set(languages))\n",
    "# get the marks of the student with roll number 345\n",
    "n=[45,667,345,678,62,46,78]\n",
    "n1=n.index(678)\n",
    "print(n1)"
   ]
  },
  {
   "cell_type": "code",
   "execution_count": 51,
   "metadata": {},
   "outputs": [
    {
     "name": "stdout",
     "output_type": "stream",
     "text": [
      "index is 3\n"
     ]
    }
   ],
   "source": [
    "\n",
    "\n",
    "for i in range(len(n)):\n",
    "    if n[i]==678:\n",
    "        print(\"index is\",i)\n",
    "    "
   ]
  },
  {
   "cell_type": "code",
   "execution_count": 54,
   "metadata": {},
   "outputs": [
    {
     "name": "stdout",
     "output_type": "stream",
     "text": [
      "70\n"
     ]
    }
   ],
   "source": [
    "for i in range(len(students)):\n",
    "    if students[i][0][1]==345:\n",
    "        print(students[i][1])"
   ]
  },
  {
   "cell_type": "code",
   "execution_count": 57,
   "metadata": {},
   "outputs": [
    {
     "name": "stdout",
     "output_type": "stream",
     "text": [
      "python\n"
     ]
    }
   ],
   "source": [
    "#language with student roll no 345\n",
    "for i in range(len(students)):\n",
    "    if students[i][0][1]==345:\n",
    "        print(students[i][2])"
   ]
  },
  {
   "cell_type": "code",
   "execution_count": 58,
   "metadata": {},
   "outputs": [
    {
     "data": {
      "text/plain": [
       "[[('astha', 345), 70, 'python'],\n",
       " [('pallavi', 456), 80, 'java'],\n",
       " [('manu', 346), 90, 'c++']]"
      ]
     },
     "execution_count": 58,
     "metadata": {},
     "output_type": "execute_result"
    }
   ],
   "source": [
    "students\n"
   ]
  },
  {
   "cell_type": "code",
   "execution_count": 61,
   "metadata": {},
   "outputs": [
    {
     "name": "stdout",
     "output_type": "stream",
     "text": [
      "python\n"
     ]
    }
   ],
   "source": [
    "#marks with students name\n",
    "for i in range(len(students)):\n",
    "    if students[i][0][0]==\"astha\":\n",
    "        print(students[i][2])"
   ]
  },
  {
   "cell_type": "code",
   "execution_count": 74,
   "metadata": {},
   "outputs": [
    {
     "name": "stdout",
     "output_type": "stream",
     "text": [
      "python\n"
     ]
    }
   ],
   "source": [
    "# student roll number as a list with language python\n",
    "py_user=[]\n",
    "for i in range(len(students)):\n",
    "    if students[i][2]==\"python\":\n",
    "        print(students[i][0][1])"
   ]
  },
  {
   "cell_type": "code",
   "execution_count": 3,
   "metadata": {},
   "outputs": [
    {
     "name": "stdout",
     "output_type": "stream",
     "text": [
      "{'marks': 15}\n"
     ]
    }
   ],
   "source": [
    "\n"
   ]
  },
  {
   "cell_type": "code",
   "execution_count": 1,
   "metadata": {},
   "outputs": [
    {
     "ename": "NameError",
     "evalue": "name 'marks' is not defined",
     "output_type": "error",
     "traceback": [
      "\u001b[1;31m---------------------------------------------------------------------------\u001b[0m",
      "\u001b[1;31mNameError\u001b[0m                                 Traceback (most recent call last)",
      "\u001b[1;32m<ipython-input-1-726d7eb86b6f>\u001b[0m in \u001b[0;36m<module>\u001b[1;34m\u001b[0m\n\u001b[1;32m----> 1\u001b[1;33m \u001b[0mmarks\u001b[0m\u001b[1;33m[\u001b[0m\u001b[1;36m413\u001b[0m\u001b[1;33m]\u001b[0m\u001b[1;33m=\u001b[0m\u001b[1;34m\"astha\"\u001b[0m\u001b[1;33m\u001b[0m\u001b[1;33m\u001b[0m\u001b[0m\n\u001b[0m\u001b[0;32m      2\u001b[0m \u001b[0mmarks\u001b[0m\u001b[1;33m[\u001b[0m\u001b[1;36m414\u001b[0m\u001b[1;33m]\u001b[0m\u001b[1;33m=\u001b[0m\u001b[1;34m\"rachna\"\u001b[0m\u001b[1;33m\u001b[0m\u001b[1;33m\u001b[0m\u001b[0m\n\u001b[0;32m      3\u001b[0m \u001b[0mmarks\u001b[0m\u001b[1;33m[\u001b[0m\u001b[1;36m415\u001b[0m\u001b[1;33m]\u001b[0m\u001b[1;33m=\u001b[0m\u001b[1;34m\"pallavi\"\u001b[0m\u001b[1;33m\u001b[0m\u001b[1;33m\u001b[0m\u001b[0m\n\u001b[0;32m      4\u001b[0m \u001b[0mprint\u001b[0m\u001b[1;33m(\u001b[0m\u001b[0mmarks\u001b[0m\u001b[1;33m)\u001b[0m\u001b[1;33m\u001b[0m\u001b[1;33m\u001b[0m\u001b[0m\n",
      "\u001b[1;31mNameError\u001b[0m: name 'marks' is not defined"
     ]
    }
   ],
   "source": [
    "marks[413]=\"astha\"\n",
    "marks[414]=\"rachna\"\n",
    "marks[415]=\"pallavi\"\n",
    "print(marks)\n"
   ]
  },
  {
   "cell_type": "code",
   "execution_count": 1,
   "metadata": {},
   "outputs": [
    {
     "name": "stdout",
     "output_type": "stream",
     "text": [
      "{'c': 6, 'py': 9, 'r': 8, 'go': 10}\n"
     ]
    }
   ],
   "source": [
    "ratings={\"c\":6,\"py\":9,\"r\":8,\"go\":10}\n",
    "print(ratings)"
   ]
  },
  {
   "cell_type": "code",
   "execution_count": 2,
   "metadata": {},
   "outputs": [
    {
     "name": "stdout",
     "output_type": "stream",
     "text": [
      "cpyrgo"
     ]
    }
   ],
   "source": [
    "for x in ratings:\n",
    "    print(x,end=\"\")"
   ]
  },
  {
   "cell_type": "code",
   "execution_count": 6,
   "metadata": {},
   "outputs": [
    {
     "name": "stdout",
     "output_type": "stream",
     "text": [
      "\"c\":6\n",
      "\"py\":9\n",
      "\"r\":8\n",
      "\"go\":10\n"
     ]
    }
   ],
   "source": [
    "for x in ratings:\n",
    "    print('\"'+x+'\"',ratings[x],sep=':')\n",
    "    "
   ]
  },
  {
   "cell_type": "code",
   "execution_count": 8,
   "metadata": {},
   "outputs": [
    {
     "name": "stdout",
     "output_type": "stream",
     "text": [
      "enter the value10\n",
      "{1: 1, 2: 8, 3: 27, 4: 64, 5: 125, 6: 216, 7: 343, 8: 512, 9: 729, 10: 1000}\n"
     ]
    }
   ],
   "source": [
    "#{1:1,2:8,3:27,....10:1000}\n",
    "d={}\n",
    "n=int(input(\"enter the value\"))\n",
    "for i in range(1,n+1):\n",
    "    d[i]=pow(i,3)\n",
    "print(d)"
   ]
  },
  {
   "cell_type": "code",
   "execution_count": 4,
   "metadata": {},
   "outputs": [
    {
     "name": "stdout",
     "output_type": "stream",
     "text": [
      "{'vowels': ['ian', 'ali', 'akash'], 'consonants': ['hari', 'balu', 'roj']}\n"
     ]
    }
   ],
   "source": [
    "d={}\n",
    "n=[\"ian\",\"hari\",\"ali\",\"akash\",\"balu\",\"roj\"]\n",
    "for i in range(len(n)):\n",
    "    if n[i][0] in \"aeiou\":\n",
    "        if 'vowels'in d:\n",
    "            d['vowels'].append(n[i])\n",
    "        else:\n",
    "            d['vowels']=[n[i]]\n",
    "    else:\n",
    "        if 'consonants'in d:\n",
    "            d['consonants'].append(n[i])\n",
    "        else:\n",
    "            d['consonants']=[n[i]]\n",
    "print(d)\n",
    "    \n",
    "    "
   ]
  },
  {
   "cell_type": "code",
   "execution_count": 6,
   "metadata": {},
   "outputs": [
    {
     "ename": "NameError",
     "evalue": "name 'text' is not defined",
     "output_type": "error",
     "traceback": [
      "\u001b[1;31m---------------------------------------------------------------------------\u001b[0m",
      "\u001b[1;31mNameError\u001b[0m                                 Traceback (most recent call last)",
      "\u001b[1;32m<ipython-input-6-d31928c2d799>\u001b[0m in \u001b[0;36m<module>\u001b[1;34m\u001b[0m\n\u001b[1;32m----> 1\u001b[1;33m \u001b[0mtype\u001b[0m\u001b[1;33m(\u001b[0m\u001b[0mtext\u001b[0m\u001b[1;33m)\u001b[0m\u001b[1;33m\u001b[0m\u001b[1;33m\u001b[0m\u001b[0m\n\u001b[0m",
      "\u001b[1;31mNameError\u001b[0m: name 'text' is not defined"
     ]
    }
   ],
   "source": [
    "words=[]\n",
    "for word in text.split():\n",
    "    words.append(word.lower())\n",
    "print(list(set(words)))\n"
   ]
  },
  {
   "cell_type": "code",
   "execution_count": null,
   "metadata": {},
   "outputs": [],
   "source": []
  }
 ],
 "metadata": {
  "kernelspec": {
   "display_name": "Python 3",
   "language": "python",
   "name": "python3"
  },
  "language_info": {
   "codemirror_mode": {
    "name": "ipython",
    "version": 3
   },
   "file_extension": ".py",
   "mimetype": "text/x-python",
   "name": "python",
   "nbconvert_exporter": "python",
   "pygments_lexer": "ipython3",
   "version": "3.7.4"
  }
 },
 "nbformat": 4,
 "nbformat_minor": 2
}
